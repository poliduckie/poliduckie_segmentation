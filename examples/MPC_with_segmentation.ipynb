{
  "cells": [
    {
      "cell_type": "markdown",
      "metadata": {
        "id": "view-in-github",
        "colab_type": "text"
      },
      "source": [
        "<a href=\"https://colab.research.google.com/github/poliduckie/poliduckie_segmentation/blob/master/examples/MPC_with_segmentation.ipynb\" target=\"_parent\"><img src=\"https://colab.research.google.com/assets/colab-badge.svg\" alt=\"Open In Colab\"/></a>"
      ]
    },
    {
      "cell_type": "code",
      "execution_count": 1,
      "metadata": {
        "colab": {
          "base_uri": "https://localhost:8080/"
        },
        "id": "J8KzZYdBq2SA",
        "outputId": "c9c47c4f-8ee9-4459-87a3-4a0bb8bf610c"
      },
      "outputs": [
        {
          "output_type": "stream",
          "name": "stdout",
          "text": [
            "Looking in indexes: https://pypi.org/simple, https://us-python.pkg.dev/colab-wheels/public/simple/\n",
            "Collecting duckietown-gym-daffy\n",
            "  Downloading duckietown-gym-daffy-6.1.30.tar.gz (48 kB)\n",
            "\u001b[K     |████████████████████████████████| 48 kB 3.5 MB/s \n",
            "\u001b[?25hRequirement already satisfied: gym>=0.17.1 in /usr/local/lib/python3.7/dist-packages (from duckietown-gym-daffy) (0.25.2)\n",
            "Requirement already satisfied: numpy>=1.10.0 in /usr/local/lib/python3.7/dist-packages (from duckietown-gym-daffy) (1.21.6)\n",
            "Collecting pyglet\n",
            "  Downloading pyglet-2.0.0-py3-none-any.whl (966 kB)\n",
            "\u001b[K     |████████████████████████████████| 966 kB 14.3 MB/s \n",
            "\u001b[?25hRequirement already satisfied: pyzmq>=16.0.0 in /usr/local/lib/python3.7/dist-packages (from duckietown-gym-daffy) (23.2.1)\n",
            "Requirement already satisfied: opencv-python>=3.4 in /usr/local/lib/python3.7/dist-packages (from duckietown-gym-daffy) (4.6.0.66)\n",
            "Requirement already satisfied: pyyaml>=3.11 in /usr/local/lib/python3.7/dist-packages (from duckietown-gym-daffy) (6.0)\n",
            "Collecting duckietown-world-daffy\n",
            "  Downloading duckietown-world-daffy-6.2.39.tar.gz (49.5 MB)\n",
            "\u001b[K     |████████████████████████████████| 49.5 MB 1.8 MB/s \n",
            "\u001b[?25hCollecting PyGeometry-z6\n",
            "  Downloading PyGeometry-z6-2.1.4.tar.gz (48 kB)\n",
            "\u001b[K     |████████████████████████████████| 48 kB 5.1 MB/s \n",
            "\u001b[?25hCollecting carnivalmirror==0.6.2\n",
            "  Downloading carnivalmirror-0.6.2.tar.gz (9.8 kB)\n",
            "Collecting zuper-commons-z6\n",
            "  Downloading zuper-commons-z6-6.2.4.tar.gz (25 kB)\n",
            "Requirement already satisfied: typing-extensions in /usr/local/lib/python3.7/dist-packages (from duckietown-gym-daffy) (4.1.1)\n",
            "Requirement already satisfied: Pillow in /usr/local/lib/python3.7/dist-packages (from duckietown-gym-daffy) (7.1.2)\n",
            "Requirement already satisfied: matplotlib>=2.2.2 in /usr/local/lib/python3.7/dist-packages (from carnivalmirror==0.6.2->duckietown-gym-daffy) (3.2.2)\n",
            "Requirement already satisfied: importlib-metadata>=4.8.0 in /usr/local/lib/python3.7/dist-packages (from gym>=0.17.1->duckietown-gym-daffy) (4.13.0)\n",
            "Requirement already satisfied: gym-notices>=0.0.4 in /usr/local/lib/python3.7/dist-packages (from gym>=0.17.1->duckietown-gym-daffy) (0.0.8)\n",
            "Requirement already satisfied: cloudpickle>=1.2.0 in /usr/local/lib/python3.7/dist-packages (from gym>=0.17.1->duckietown-gym-daffy) (1.5.0)\n",
            "Requirement already satisfied: zipp>=0.5 in /usr/local/lib/python3.7/dist-packages (from importlib-metadata>=4.8.0->gym>=0.17.1->duckietown-gym-daffy) (3.10.0)\n",
            "Requirement already satisfied: kiwisolver>=1.0.1 in /usr/local/lib/python3.7/dist-packages (from matplotlib>=2.2.2->carnivalmirror==0.6.2->duckietown-gym-daffy) (1.4.4)\n",
            "Requirement already satisfied: cycler>=0.10 in /usr/local/lib/python3.7/dist-packages (from matplotlib>=2.2.2->carnivalmirror==0.6.2->duckietown-gym-daffy) (0.11.0)\n",
            "Requirement already satisfied: python-dateutil>=2.1 in /usr/local/lib/python3.7/dist-packages (from matplotlib>=2.2.2->carnivalmirror==0.6.2->duckietown-gym-daffy) (2.8.2)\n",
            "Requirement already satisfied: pyparsing!=2.0.4,!=2.1.2,!=2.1.6,>=2.0.1 in /usr/local/lib/python3.7/dist-packages (from matplotlib>=2.2.2->carnivalmirror==0.6.2->duckietown-gym-daffy) (3.0.9)\n",
            "Requirement already satisfied: six>=1.5 in /usr/local/lib/python3.7/dist-packages (from python-dateutil>=2.1->matplotlib>=2.2.2->carnivalmirror==0.6.2->duckietown-gym-daffy) (1.15.0)\n",
            "Collecting PyContracts3\n",
            "  Downloading PyContracts3-3.0.2.tar.gz (63 kB)\n",
            "\u001b[K     |████████████████████████████████| 63 kB 2.7 MB/s \n",
            "\u001b[?25hCollecting aido-protocols-daffy\n",
            "  Downloading aido-protocols-daffy-6.0.59.tar.gz (6.8 kB)\n",
            "Requirement already satisfied: beautifulsoup4<=4.7.1,>=4.6.3 in /usr/local/lib/python3.7/dist-packages (from duckietown-world-daffy->duckietown-gym-daffy) (4.6.3)\n",
            "Collecting coloredlogs\n",
            "  Downloading coloredlogs-15.0.1-py2.py3-none-any.whl (46 kB)\n",
            "\u001b[K     |████████████████████████████████| 46 kB 4.6 MB/s \n",
            "\u001b[?25hCollecting duckietown-serialization-ds1<2\n",
            "  Downloading duckietown-serialization-ds1-1.0.20.tar.gz (5.3 kB)\n",
            "Collecting frozendict\n",
            "  Downloading frozendict-2.3.4-cp37-cp37m-manylinux_2_17_x86_64.manylinux2014_x86_64.whl (99 kB)\n",
            "\u001b[K     |████████████████████████████████| 99 kB 10.6 MB/s \n",
            "\u001b[?25hRequirement already satisfied: future in /usr/local/lib/python3.7/dist-packages (from duckietown-world-daffy->duckietown-gym-daffy) (0.16.0)\n",
            "Collecting gltflib\n",
            "  Downloading gltflib-1.0.13-py3-none-any.whl (61 kB)\n",
            "\u001b[K     |████████████████████████████████| 61 kB 305 kB/s \n",
            "\u001b[?25hRequirement already satisfied: jpeg4py in /usr/local/lib/python3.7/dist-packages (from duckietown-world-daffy->duckietown-gym-daffy) (0.1.4)\n",
            "Requirement already satisfied: lxml in /usr/local/lib/python3.7/dist-packages (from duckietown-world-daffy->duckietown-gym-daffy) (4.9.1)\n",
            "Requirement already satisfied: markdown in /usr/local/lib/python3.7/dist-packages (from duckietown-world-daffy->duckietown-gym-daffy) (3.4.1)\n",
            "Requirement already satisfied: networkx<3,>=2.2 in /usr/local/lib/python3.7/dist-packages (from duckietown-world-daffy->duckietown-gym-daffy) (2.6.3)\n",
            "Collecting oyaml\n",
            "  Downloading oyaml-1.0-py2.py3-none-any.whl (3.0 kB)\n",
            "Requirement already satisfied: plotly in /usr/local/lib/python3.7/dist-packages (from duckietown-world-daffy->duckietown-gym-daffy) (5.5.0)\n",
            "Collecting pyrender\n",
            "  Downloading pyrender-0.1.45-py3-none-any.whl (1.2 MB)\n",
            "\u001b[K     |████████████████████████████████| 1.2 MB 56.1 MB/s \n",
            "\u001b[?25hRequirement already satisfied: scipy in /usr/local/lib/python3.7/dist-packages (from duckietown-world-daffy->duckietown-gym-daffy) (1.7.3)\n",
            "Collecting svgwrite\n",
            "  Downloading svgwrite-1.4.3-py3-none-any.whl (67 kB)\n",
            "\u001b[K     |████████████████████████████████| 67 kB 6.0 MB/s \n",
            "\u001b[?25hCollecting trimesh\n",
            "  Downloading trimesh-3.16.0-py3-none-any.whl (660 kB)\n",
            "\u001b[K     |████████████████████████████████| 660 kB 64.0 MB/s \n",
            "\u001b[?25hCollecting zuper-ipce-z6\n",
            "  Downloading zuper-ipce-z6-6.1.2.tar.gz (27 kB)\n",
            "Collecting zuper-typing-z6>=6.0.66\n",
            "  Downloading zuper-typing-z6-6.2.3.tar.gz (42 kB)\n",
            "\u001b[K     |████████████████████████████████| 42 kB 1.7 MB/s \n",
            "\u001b[?25hRequirement already satisfied: ipython in /usr/local/lib/python3.7/dist-packages (from duckietown-world-daffy->duckietown-gym-daffy) (7.9.0)\n",
            "Collecting base58<2\n",
            "  Downloading base58-1.0.3-py3-none-any.whl (3.1 kB)\n",
            "Collecting pybase64\n",
            "  Downloading pybase64-1.2.3-cp37-cp37m-manylinux_2_5_x86_64.manylinux1_x86_64.manylinux_2_17_x86_64.manylinux2014_x86_64.whl (171 kB)\n",
            "\u001b[K     |████████████████████████████████| 171 kB 72.2 MB/s \n",
            "\u001b[?25hCollecting validate_email\n",
            "  Downloading validate_email-1.3.tar.gz (4.7 kB)\n",
            "Collecting mypy_extensions\n",
            "  Downloading mypy_extensions-0.4.3-py2.py3-none-any.whl (4.5 kB)\n",
            "Collecting nose\n",
            "  Using cached nose-1.3.7-py3-none-any.whl (154 kB)\n",
            "Collecting coverage>=1.4.33\n",
            "  Downloading coverage-6.5.0-cp37-cp37m-manylinux_2_5_x86_64.manylinux1_x86_64.manylinux_2_17_x86_64.manylinux2014_x86_64.whl (210 kB)\n",
            "\u001b[K     |████████████████████████████████| 210 kB 70.5 MB/s \n",
            "\u001b[?25hRequirement already satisfied: jsonschema in /usr/local/lib/python3.7/dist-packages (from zuper-typing-z6>=6.0.66->duckietown-world-daffy->duckietown-gym-daffy) (4.3.3)\n",
            "Requirement already satisfied: pytz in /usr/local/lib/python3.7/dist-packages (from zuper-typing-z6>=6.0.66->duckietown-world-daffy->duckietown-gym-daffy) (2022.6)\n",
            "Requirement already satisfied: termcolor in /usr/local/lib/python3.7/dist-packages (from zuper-typing-z6>=6.0.66->duckietown-world-daffy->duckietown-gym-daffy) (2.1.0)\n",
            "Collecting xtermcolor\n",
            "  Downloading xtermcolor-1.3.tar.gz (3.8 kB)\n",
            "Collecting webcolors\n",
            "  Downloading webcolors-1.12-py3-none-any.whl (9.9 kB)\n",
            "Collecting zuper-nodes-z6>=6.2.8\n",
            "  Downloading zuper-nodes-z6-6.2.13.tar.gz (24 kB)\n",
            "Collecting cbor2\n",
            "  Downloading cbor2-5.4.3-cp37-cp37m-manylinux_2_17_x86_64.manylinux2014_x86_64.whl (190 kB)\n",
            "\u001b[K     |████████████████████████████████| 190 kB 68.7 MB/s \n",
            "\u001b[?25hCollecting humanfriendly>=9.1\n",
            "  Downloading humanfriendly-10.0-py2.py3-none-any.whl (86 kB)\n",
            "\u001b[K     |████████████████████████████████| 86 kB 7.2 MB/s \n",
            "\u001b[?25hCollecting dataclasses-json>=0.4.5\n",
            "  Downloading dataclasses_json-0.5.7-py3-none-any.whl (25 kB)\n",
            "Requirement already satisfied: marshmallow<4.0.0,>=3.3.0 in /usr/local/lib/python3.7/dist-packages (from dataclasses-json>=0.4.5->gltflib->duckietown-world-daffy->duckietown-gym-daffy) (3.18.0)\n",
            "Collecting typing-inspect>=0.4.0\n",
            "  Downloading typing_inspect-0.8.0-py3-none-any.whl (8.7 kB)\n",
            "Collecting marshmallow-enum<2.0.0,>=1.5.1\n",
            "  Downloading marshmallow_enum-1.5.1-py2.py3-none-any.whl (4.2 kB)\n",
            "Requirement already satisfied: packaging>=17.0 in /usr/local/lib/python3.7/dist-packages (from marshmallow<4.0.0,>=3.3.0->dataclasses-json>=0.4.5->gltflib->duckietown-world-daffy->duckietown-gym-daffy) (21.3)\n",
            "Requirement already satisfied: prompt-toolkit<2.1.0,>=2.0.0 in /usr/local/lib/python3.7/dist-packages (from ipython->duckietown-world-daffy->duckietown-gym-daffy) (2.0.10)\n",
            "Requirement already satisfied: decorator in /usr/local/lib/python3.7/dist-packages (from ipython->duckietown-world-daffy->duckietown-gym-daffy) (4.4.2)\n",
            "Requirement already satisfied: backcall in /usr/local/lib/python3.7/dist-packages (from ipython->duckietown-world-daffy->duckietown-gym-daffy) (0.2.0)\n",
            "Requirement already satisfied: pickleshare in /usr/local/lib/python3.7/dist-packages (from ipython->duckietown-world-daffy->duckietown-gym-daffy) (0.7.5)\n",
            "Requirement already satisfied: setuptools>=18.5 in /usr/local/lib/python3.7/dist-packages (from ipython->duckietown-world-daffy->duckietown-gym-daffy) (57.4.0)\n",
            "Requirement already satisfied: traitlets>=4.2 in /usr/local/lib/python3.7/dist-packages (from ipython->duckietown-world-daffy->duckietown-gym-daffy) (5.1.1)\n",
            "Collecting jedi>=0.10\n",
            "  Downloading jedi-0.18.1-py2.py3-none-any.whl (1.6 MB)\n",
            "\u001b[K     |████████████████████████████████| 1.6 MB 50.7 MB/s \n",
            "\u001b[?25hRequirement already satisfied: pexpect in /usr/local/lib/python3.7/dist-packages (from ipython->duckietown-world-daffy->duckietown-gym-daffy) (4.8.0)\n",
            "Requirement already satisfied: pygments in /usr/local/lib/python3.7/dist-packages (from ipython->duckietown-world-daffy->duckietown-gym-daffy) (2.6.1)\n",
            "Requirement already satisfied: parso<0.9.0,>=0.8.0 in /usr/local/lib/python3.7/dist-packages (from jedi>=0.10->ipython->duckietown-world-daffy->duckietown-gym-daffy) (0.8.3)\n",
            "Requirement already satisfied: wcwidth in /usr/local/lib/python3.7/dist-packages (from prompt-toolkit<2.1.0,>=2.0.0->ipython->duckietown-world-daffy->duckietown-gym-daffy) (0.2.5)\n",
            "Requirement already satisfied: cffi in /usr/local/lib/python3.7/dist-packages (from jpeg4py->duckietown-world-daffy->duckietown-gym-daffy) (1.15.1)\n",
            "Requirement already satisfied: pycparser in /usr/local/lib/python3.7/dist-packages (from cffi->jpeg4py->duckietown-world-daffy->duckietown-gym-daffy) (2.21)\n",
            "Requirement already satisfied: pyrsistent!=0.17.0,!=0.17.1,!=0.17.2,>=0.14.0 in /usr/local/lib/python3.7/dist-packages (from jsonschema->zuper-typing-z6>=6.0.66->duckietown-world-daffy->duckietown-gym-daffy) (0.19.2)\n",
            "Requirement already satisfied: attrs>=17.4.0 in /usr/local/lib/python3.7/dist-packages (from jsonschema->zuper-typing-z6>=6.0.66->duckietown-world-daffy->duckietown-gym-daffy) (22.1.0)\n",
            "Requirement already satisfied: importlib-resources>=1.4.0 in /usr/local/lib/python3.7/dist-packages (from jsonschema->zuper-typing-z6>=6.0.66->duckietown-world-daffy->duckietown-gym-daffy) (5.10.0)\n",
            "Requirement already satisfied: ptyprocess>=0.5 in /usr/local/lib/python3.7/dist-packages (from pexpect->ipython->duckietown-world-daffy->duckietown-gym-daffy) (0.7.0)\n",
            "Requirement already satisfied: tenacity>=6.2.0 in /usr/local/lib/python3.7/dist-packages (from plotly->duckietown-world-daffy->duckietown-gym-daffy) (8.1.0)\n",
            "Requirement already satisfied: imageio in /usr/local/lib/python3.7/dist-packages (from pyrender->duckietown-world-daffy->duckietown-gym-daffy) (2.9.0)\n",
            "Collecting PyOpenGL==3.1.0\n",
            "  Downloading PyOpenGL-3.1.0.zip (2.2 MB)\n",
            "\u001b[K     |████████████████████████████████| 2.2 MB 52.3 MB/s \n",
            "\u001b[?25hCollecting freetype-py\n",
            "  Downloading freetype_py-2.3.0-py3-none-manylinux_2_5_x86_64.manylinux1_x86_64.manylinux_2_12_x86_64.manylinux2010_x86_64.whl (978 kB)\n",
            "\u001b[K     |████████████████████████████████| 978 kB 61.6 MB/s \n",
            "\u001b[?25hCollecting py-multihash\n",
            "  Downloading py_multihash-2.0.1-py2.py3-none-any.whl (7.6 kB)\n",
            "Collecting py-cid\n",
            "  Downloading py_cid-0.3.0-py2.py3-none-any.whl (7.9 kB)\n",
            "Collecting py-multicodec<0.3.0\n",
            "  Downloading py_multicodec-0.2.1-py2.py3-none-any.whl (8.5 kB)\n",
            "Collecting morphys<2.0,>=1.0\n",
            "  Downloading morphys-1.0-py2.py3-none-any.whl (5.6 kB)\n",
            "Collecting py-multibase<2.0.0,>=1.0.0\n",
            "  Downloading py_multibase-1.0.3-py2.py3-none-any.whl (6.4 kB)\n",
            "Collecting py-multihash\n",
            "  Downloading py_multihash-0.2.3-py2.py3-none-any.whl (7.9 kB)\n",
            "Collecting python-baseconv<2.0,>=1.2.0\n",
            "  Downloading python-baseconv-1.2.2.tar.gz (4.9 kB)\n",
            "Collecting varint<2.0.0,>=1.0.2\n",
            "  Downloading varint-1.0.2.tar.gz (1.9 kB)\n",
            "Building wheels for collected packages: duckietown-gym-daffy, carnivalmirror, duckietown-world-daffy, duckietown-serialization-ds1, PyGeometry-z6, zuper-typing-z6, zuper-commons-z6, aido-protocols-daffy, zuper-nodes-z6, PyContracts3, PyOpenGL, validate-email, xtermcolor, zuper-ipce-z6, python-baseconv, varint\n",
            "  Building wheel for duckietown-gym-daffy (setup.py) ... \u001b[?25l\u001b[?25hdone\n",
            "  Created wheel for duckietown-gym-daffy: filename=duckietown_gym_daffy-6.1.30-py3-none-any.whl size=55224 sha256=faadd0910cc4ce6734ba6f21f68cfacf5850384a0c1bfa96ad04ff81f9143124\n",
            "  Stored in directory: /root/.cache/pip/wheels/5a/bd/79/2ae4f35b861315b66083a3784a53af52b7edcd86fe5a83d756\n",
            "  Building wheel for carnivalmirror (setup.py) ... \u001b[?25l\u001b[?25hdone\n",
            "  Created wheel for carnivalmirror: filename=carnivalmirror-0.6.2-py3-none-any.whl size=10568 sha256=45ef17743ad08e1d72d9930b1f358f84c48ed58d1dc442a421ccaa65c1ad558f\n",
            "  Stored in directory: /root/.cache/pip/wheels/08/10/50/0f194e00e6b2530728bf9de11f6249b1b4e2f66fb78ccfb729\n",
            "  Building wheel for duckietown-world-daffy (setup.py) ... \u001b[?25l\u001b[?25hdone\n",
            "  Created wheel for duckietown-world-daffy: filename=duckietown_world_daffy-6.2.39-py3-none-any.whl size=49913658 sha256=1cba3ff8a7352191bcc3673912c7e7bba54c35dbdfaaec3f87427ca8ed202678\n",
            "  Stored in directory: /root/.cache/pip/wheels/6c/03/8c/603b28399d65d9449f52db4e0affc3502277261d276effec5e\n",
            "  Building wheel for duckietown-serialization-ds1 (setup.py) ... \u001b[?25l\u001b[?25hdone\n",
            "  Created wheel for duckietown-serialization-ds1: filename=duckietown_serialization_ds1-1.0.20-py3-none-any.whl size=6561 sha256=7e87bbf535f3247b061649031b5bdbecfe1703ed9c3ec7ba011ba14fec0c8d8e\n",
            "  Stored in directory: /root/.cache/pip/wheels/45/48/8c/06eaf2915c75994e2141757ef04b7ca6c372ee93fed66b2a56\n",
            "  Building wheel for PyGeometry-z6 (setup.py) ... \u001b[?25l\u001b[?25hdone\n",
            "  Created wheel for PyGeometry-z6: filename=PyGeometry_z6-2.1.4-py3-none-any.whl size=70769 sha256=2f83dada0041d5ba6f0acfcf13efeed1d80d4a948adeafba9c68c7dd1c5947ef\n",
            "  Stored in directory: /root/.cache/pip/wheels/fa/3b/14/9a6b443d5bb14f50412753a2c9dfe1e2b1d5805be105685bab\n",
            "  Building wheel for zuper-typing-z6 (setup.py) ... \u001b[?25l\u001b[?25hdone\n",
            "  Created wheel for zuper-typing-z6: filename=zuper_typing_z6-6.2.3-py3-none-any.whl size=50160 sha256=073bc2dde508dc07408fae86641d342553af378eb68741896f14335938a1d3a7\n",
            "  Stored in directory: /root/.cache/pip/wheels/4c/05/3f/b7c2af2c58085e4414df8846b3f504f2153b52e501a8e43feb\n",
            "  Building wheel for zuper-commons-z6 (setup.py) ... \u001b[?25l\u001b[?25hdone\n",
            "  Created wheel for zuper-commons-z6: filename=zuper_commons_z6-6.2.4-py3-none-any.whl size=35704 sha256=5ad63858b2b43e40f68dcc9de4cbbcfacb6a45b158efa305d43f6f7b9c6f1b9b\n",
            "  Stored in directory: /root/.cache/pip/wheels/0a/0a/a2/a147d759b1c1579cd1d4d90a0c3c214fcbaeaf5dff229ae677\n",
            "  Building wheel for aido-protocols-daffy (setup.py) ... \u001b[?25l\u001b[?25hdone\n",
            "  Created wheel for aido-protocols-daffy: filename=aido_protocols_daffy-6.0.59-py3-none-any.whl size=9016 sha256=7403e177689fabc56d41a18a66837727301c773485291f4cfad831e031ad3600\n",
            "  Stored in directory: /root/.cache/pip/wheels/82/c8/69/fbc7a79ad05f2fcc0b9b94eab3b852001e6c9f64862c30b712\n",
            "  Building wheel for zuper-nodes-z6 (setup.py) ... \u001b[?25l\u001b[?25hdone\n",
            "  Created wheel for zuper-nodes-z6: filename=zuper_nodes_z6-6.2.13-py3-none-any.whl size=32166 sha256=d71c83dac08b2f3e5ae58fbf7a69c98fe61db6cc44310495b17a5ff0b385cd07\n",
            "  Stored in directory: /root/.cache/pip/wheels/7a/31/e8/c639a92c6c5ffa354f44d37dcfc00d08f583522b9ebaec31c1\n",
            "  Building wheel for PyContracts3 (setup.py) ... \u001b[?25l\u001b[?25hdone\n",
            "  Created wheel for PyContracts3: filename=PyContracts3-3.0.2-py3-none-any.whl size=91775 sha256=ec0e0582d4de7252339c705e81b22ec64cd52460d9af8694cc05eb3fcb67abea\n",
            "  Stored in directory: /root/.cache/pip/wheels/a7/c2/d6/2f636b39a1a10f0170564602e398984579376d38f983111dbe\n",
            "  Building wheel for PyOpenGL (setup.py) ... \u001b[?25l\u001b[?25hdone\n",
            "  Created wheel for PyOpenGL: filename=PyOpenGL-3.1.0-py3-none-any.whl size=1745210 sha256=9b96b35461d9f6847e95139297ba5b54984f34413e19518bac283222c1bee882\n",
            "  Stored in directory: /root/.cache/pip/wheels/c6/83/cb/af51a0c06c33d08537b941bbfc87469e8a3c68d05f77a6a212\n",
            "  Building wheel for validate-email (setup.py) ... \u001b[?25l\u001b[?25hdone\n",
            "  Created wheel for validate-email: filename=validate_email-1.3-py3-none-any.whl size=5481 sha256=09627e24919993be7ed2239dd04399a072d8b61fc30e44bfe494d03d43a4b5b3\n",
            "  Stored in directory: /root/.cache/pip/wheels/ff/8f/92/c43287715852eaa75e0d8aa1941c481072b4a82c4f4975074e\n",
            "  Building wheel for xtermcolor (setup.py) ... \u001b[?25l\u001b[?25hdone\n",
            "  Created wheel for xtermcolor: filename=xtermcolor-1.3-py3-none-any.whl size=5059 sha256=0bca55831277d93f534c0b60defb79f0a7ca03572b495ccb061a77ab023b50ae\n",
            "  Stored in directory: /root/.cache/pip/wheels/b5/6c/b1/eea348fc6f213279c55eaa99ba9122c8a6697b9efda1e50315\n",
            "  Building wheel for zuper-ipce-z6 (setup.py) ... \u001b[?25l\u001b[?25hdone\n",
            "  Created wheel for zuper-ipce-z6: filename=zuper_ipce_z6-6.1.2-py3-none-any.whl size=33901 sha256=b148d3233dbe3487a7706a8a78870c0254f62eadd3f05287d2f61493542904ce\n",
            "  Stored in directory: /root/.cache/pip/wheels/04/0b/df/e61868ba06b90dd6ebf7d0405b21bdd7510c5cd6d96a829318\n",
            "  Building wheel for python-baseconv (setup.py) ... \u001b[?25l\u001b[?25hdone\n",
            "  Created wheel for python-baseconv: filename=python_baseconv-1.2.2-py3-none-any.whl size=5508 sha256=de5ad2640b7dc9270bbb05ea9aeb911aafb312c8d55bfbc666cc31dce35cbed3\n",
            "  Stored in directory: /root/.cache/pip/wheels/19/19/ed/88aed7837cf5c05cd27e4b1ae5a92c73b60bec596657c2cb8b\n",
            "  Building wheel for varint (setup.py) ... \u001b[?25l\u001b[?25hdone\n",
            "  Created wheel for varint: filename=varint-1.0.2-py3-none-any.whl size=1981 sha256=0956b9de5dcbbe8a120106dcbb7b6b5ff4d06a0d49e3291b9d12bfbdf66e9aea\n",
            "  Stored in directory: /root/.cache/pip/wheels/69/21/07/09f1c6a7d9b59377aa6d98da6efdd670f7ca40aabd93d02704\n",
            "Successfully built duckietown-gym-daffy carnivalmirror duckietown-world-daffy duckietown-serialization-ds1 PyGeometry-z6 zuper-typing-z6 zuper-commons-z6 aido-protocols-daffy zuper-nodes-z6 PyContracts3 PyOpenGL validate-email xtermcolor zuper-ipce-z6 python-baseconv varint\n",
            "Installing collected packages: xtermcolor, webcolors, varint, python-baseconv, morphys, base58, zuper-commons-z6, validate-email, pybase64, py-multihash, py-multicodec, py-multibase, oyaml, nose, mypy-extensions, frozendict, coverage, zuper-typing-z6, py-cid, cbor2, zuper-ipce-z6, typing-inspect, marshmallow-enum, zuper-nodes-z6, trimesh, PyOpenGL, pyglet, PyContracts3, jedi, humanfriendly, freetype-py, dataclasses-json, svgwrite, pyrender, PyGeometry-z6, gltflib, duckietown-serialization-ds1, coloredlogs, aido-protocols-daffy, duckietown-world-daffy, carnivalmirror, duckietown-gym-daffy\n",
            "  Attempting uninstall: PyOpenGL\n",
            "    Found existing installation: PyOpenGL 3.1.6\n",
            "    Uninstalling PyOpenGL-3.1.6:\n",
            "      Successfully uninstalled PyOpenGL-3.1.6\n",
            "Successfully installed PyContracts3-3.0.2 PyGeometry-z6-2.1.4 PyOpenGL-3.1.0 aido-protocols-daffy-6.0.59 base58-1.0.3 carnivalmirror-0.6.2 cbor2-5.4.3 coloredlogs-15.0.1 coverage-6.5.0 dataclasses-json-0.5.7 duckietown-gym-daffy-6.1.30 duckietown-serialization-ds1-1.0.20 duckietown-world-daffy-6.2.39 freetype-py-2.3.0 frozendict-2.3.4 gltflib-1.0.13 humanfriendly-10.0 jedi-0.18.1 marshmallow-enum-1.5.1 morphys-1.0 mypy-extensions-0.4.3 nose-1.3.7 oyaml-1.0 py-cid-0.3.0 py-multibase-1.0.3 py-multicodec-0.2.1 py-multihash-0.2.3 pybase64-1.2.3 pyglet-2.0.0 pyrender-0.1.45 python-baseconv-1.2.2 svgwrite-1.4.3 trimesh-3.16.0 typing-inspect-0.8.0 validate-email-1.3 varint-1.0.2 webcolors-1.12 xtermcolor-1.3 zuper-commons-z6-6.2.4 zuper-ipce-z6-6.1.2 zuper-nodes-z6-6.2.13 zuper-typing-z6-6.2.3\n",
            "Looking in indexes: https://pypi.org/simple, https://us-python.pkg.dev/colab-wheels/public/simple/\n",
            "Collecting pyglet==1.5.15\n",
            "  Downloading pyglet-1.5.15-py3-none-any.whl (1.1 MB)\n",
            "\u001b[K     |████████████████████████████████| 1.1 MB 7.3 MB/s \n",
            "\u001b[?25hInstalling collected packages: pyglet\n",
            "  Attempting uninstall: pyglet\n",
            "    Found existing installation: pyglet 2.0.0\n",
            "    Uninstalling pyglet-2.0.0:\n",
            "      Successfully uninstalled pyglet-2.0.0\n",
            "Successfully installed pyglet-1.5.15\n",
            "Reading package lists... Done\n",
            "Building dependency tree       \n",
            "Reading state information... Done\n",
            "The following package was automatically installed and is no longer required:\n",
            "  libnvidia-common-460\n",
            "Use 'apt autoremove' to remove it.\n",
            "The following NEW packages will be installed:\n",
            "  xvfb\n",
            "0 upgraded, 1 newly installed, 0 to remove and 5 not upgraded.\n",
            "Need to get 785 kB of archives.\n",
            "After this operation, 2,271 kB of additional disk space will be used.\n",
            "Get:1 http://archive.ubuntu.com/ubuntu bionic-updates/universe amd64 xvfb amd64 2:1.19.6-1ubuntu4.11 [785 kB]\n",
            "Fetched 785 kB in 1s (702 kB/s)\n",
            "Selecting previously unselected package xvfb.\n",
            "(Reading database ... 123941 files and directories currently installed.)\n",
            "Preparing to unpack .../xvfb_2%3a1.19.6-1ubuntu4.11_amd64.deb ...\n",
            "Unpacking xvfb (2:1.19.6-1ubuntu4.11) ...\n",
            "Setting up xvfb (2:1.19.6-1ubuntu4.11) ...\n",
            "Processing triggers for man-db (2.8.3-2ubuntu0.1) ...\n",
            "Looking in indexes: https://pypi.org/simple, https://us-python.pkg.dev/colab-wheels/public/simple/\n",
            "Collecting pyvirtualdisplay\n",
            "  Downloading PyVirtualDisplay-3.0-py3-none-any.whl (15 kB)\n",
            "Installing collected packages: pyvirtualdisplay\n",
            "Successfully installed pyvirtualdisplay-3.0\n"
          ]
        },
        {
          "output_type": "stream",
          "name": "stderr",
          "text": [
            "DEBUG:commons:version: 6.2.4 *\n",
            "DEBUG:typing:version: 6.2.3\n",
            "DEBUG:duckietown_world:duckietown-world version 6.2.39 path /usr/local/lib/python3.7/dist-packages\n",
            "/usr/local/lib/python3.7/dist-packages/past/types/oldstr.py:5: DeprecationWarning: Using or importing the ABCs from 'collections' instead of from 'collections.abc' is deprecated since Python 3.3,and in 3.9 it will stop working\n",
            "  from collections import Iterable\n",
            "/usr/local/lib/python3.7/dist-packages/past/builtins/misc.py:4: DeprecationWarning: Using or importing the ABCs from 'collections' instead of from 'collections.abc' is deprecated since Python 3.3,and in 3.9 it will stop working\n",
            "  from collections import Mapping\n",
            "/usr/local/lib/python3.7/dist-packages/contracts/library/array_ops.py:225: DeprecationWarning: `np.int` is a deprecated alias for the builtin `int`. To silence this warning, use `int` by itself. Doing this will not modify any behavior and is safe. When replacing `np.int`, you may wish to use e.g. `np.int64` or `np.int32` to specify the precision. If you wish to review your current use, check the release note link for additional information.\n",
            "Deprecated in NumPy 1.20; for more details and guidance: https://numpy.org/devdocs/release/1.20.0-notes.html#deprecations\n",
            "  'np_int': np.int,  # Platform integer (normally either int32 or int64)\n",
            "/usr/local/lib/python3.7/dist-packages/contracts/library/array_ops.py:234: DeprecationWarning: `np.float` is a deprecated alias for the builtin `float`. To silence this warning, use `float` by itself. Doing this will not modify any behavior and is safe. If you specifically wanted the numpy scalar type, use `np.float64` here.\n",
            "Deprecated in NumPy 1.20; for more details and guidance: https://numpy.org/devdocs/release/1.20.0-notes.html#deprecations\n",
            "  'np_float': np.float,  # Shorthand for float64.\n",
            "/usr/local/lib/python3.7/dist-packages/contracts/library/array_ops.py:238: DeprecationWarning: `np.complex` is a deprecated alias for the builtin `complex`. To silence this warning, use `complex` by itself. Doing this will not modify any behavior and is safe. If you specifically wanted the numpy scalar type, use `np.complex128` here.\n",
            "Deprecated in NumPy 1.20; for more details and guidance: https://numpy.org/devdocs/release/1.20.0-notes.html#deprecations\n",
            "  'np_complex': np.complex,  # Shorthand for complex128.\n",
            "/usr/local/lib/python3.7/dist-packages/contracts/library/miscellaneous_aliases.py:19: DeprecationWarning: Using or importing the ABCs from 'collections' instead of from 'collections.abc' is deprecated since Python 3.3,and in 3.9 it will stop working\n",
            "  m_new_contract('Container', ist(collections.Container))\n",
            "DEBUG:geometry:PyGeometry-z6 version 2.1.4 path /usr/local/lib/python3.7/dist-packages\n",
            "/usr/local/lib/python3.7/dist-packages/geometry/utils/numpy_backport.py:9: DeprecationWarning: Importing from numpy.testing.utils is deprecated since 1.15.0, import from numpy.testing instead.\n",
            "  from numpy.testing.utils import assert_allclose  # @UnusedImport\n",
            "DEBUG:aido_schemas:aido-protocols version 6.0.59 path /usr/local/lib/python3.7/dist-packages\n",
            "DEBUG:nodes:version 6.2.13 path /usr/local/lib/python3.7/dist-packages pyparsing 3.0.9\n",
            "DEBUG:gym-duckietown:gym-duckietown version 6.1.30 path /usr/local/lib/python3.7/dist-packages\n",
            "\n"
          ]
        },
        {
          "output_type": "stream",
          "name": "stdout",
          "text": [
            "{'audio': ('xaudio2', 'directsound', 'openal', 'pulse', 'silent'), 'debug_font': False, 'debug_gl': True, 'debug_gl_trace': False, 'debug_gl_trace_args': False, 'debug_graphics_batch': False, 'debug_lib': False, 'debug_media': False, 'debug_texture': False, 'debug_trace': False, 'debug_trace_args': False, 'debug_trace_depth': 1, 'debug_trace_flush': True, 'debug_win32': False, 'debug_x11': False, 'graphics_vbo': True, 'shadow_window': True, 'vsync': None, 'xsync': True, 'xlib_fullscreen_override_redirect': False, 'darwin_cocoa': True, 'search_local_libs': True, 'headless': False, 'headless_device': 0}\n",
            "Looking in indexes: https://pypi.org/simple, https://us-python.pkg.dev/colab-wheels/public/simple/\n",
            "Collecting poliduckie-segmentation\n",
            "  Downloading poliduckie_segmentation-0.1.7-py3-none-any.whl (22.2 MB)\n",
            "\u001b[K     |████████████████████████████████| 22.2 MB 1.3 MB/s \n",
            "\u001b[?25hRequirement already satisfied: numpy in /usr/local/lib/python3.7/dist-packages (from poliduckie-segmentation) (1.21.6)\n",
            "Requirement already satisfied: tensorflow in /usr/local/lib/python3.7/dist-packages (from poliduckie-segmentation) (2.9.2)\n",
            "Collecting casadi\n",
            "  Downloading casadi-3.5.5-cp37-none-manylinux1_x86_64.whl (34.2 MB)\n",
            "\u001b[K     |████████████████████████████████| 34.2 MB 1.3 MB/s \n",
            "\u001b[?25hRequirement already satisfied: opencv-python in /usr/local/lib/python3.7/dist-packages (from poliduckie-segmentation) (4.6.0.66)\n",
            "Requirement already satisfied: absl-py>=1.0.0 in /usr/local/lib/python3.7/dist-packages (from tensorflow->poliduckie-segmentation) (1.3.0)\n",
            "Requirement already satisfied: tensorflow-estimator<2.10.0,>=2.9.0rc0 in /usr/local/lib/python3.7/dist-packages (from tensorflow->poliduckie-segmentation) (2.9.0)\n",
            "Requirement already satisfied: astunparse>=1.6.0 in /usr/local/lib/python3.7/dist-packages (from tensorflow->poliduckie-segmentation) (1.6.3)\n",
            "Requirement already satisfied: six>=1.12.0 in /usr/local/lib/python3.7/dist-packages (from tensorflow->poliduckie-segmentation) (1.15.0)\n",
            "Requirement already satisfied: h5py>=2.9.0 in /usr/local/lib/python3.7/dist-packages (from tensorflow->poliduckie-segmentation) (3.1.0)\n",
            "Requirement already satisfied: grpcio<2.0,>=1.24.3 in /usr/local/lib/python3.7/dist-packages (from tensorflow->poliduckie-segmentation) (1.50.0)\n",
            "Requirement already satisfied: setuptools in /usr/local/lib/python3.7/dist-packages (from tensorflow->poliduckie-segmentation) (57.4.0)\n",
            "Requirement already satisfied: packaging in /usr/local/lib/python3.7/dist-packages (from tensorflow->poliduckie-segmentation) (21.3)\n",
            "Requirement already satisfied: keras-preprocessing>=1.1.1 in /usr/local/lib/python3.7/dist-packages (from tensorflow->poliduckie-segmentation) (1.1.2)\n",
            "Requirement already satisfied: wrapt>=1.11.0 in /usr/local/lib/python3.7/dist-packages (from tensorflow->poliduckie-segmentation) (1.14.1)\n",
            "Requirement already satisfied: termcolor>=1.1.0 in /usr/local/lib/python3.7/dist-packages (from tensorflow->poliduckie-segmentation) (2.1.0)\n",
            "Requirement already satisfied: protobuf<3.20,>=3.9.2 in /usr/local/lib/python3.7/dist-packages (from tensorflow->poliduckie-segmentation) (3.17.3)\n",
            "Requirement already satisfied: google-pasta>=0.1.1 in /usr/local/lib/python3.7/dist-packages (from tensorflow->poliduckie-segmentation) (0.2.0)\n",
            "Requirement already satisfied: flatbuffers<2,>=1.12 in /usr/local/lib/python3.7/dist-packages (from tensorflow->poliduckie-segmentation) (1.12)\n",
            "Requirement already satisfied: libclang>=13.0.0 in /usr/local/lib/python3.7/dist-packages (from tensorflow->poliduckie-segmentation) (14.0.6)\n",
            "Requirement already satisfied: keras<2.10.0,>=2.9.0rc0 in /usr/local/lib/python3.7/dist-packages (from tensorflow->poliduckie-segmentation) (2.9.0)\n",
            "Requirement already satisfied: tensorboard<2.10,>=2.9 in /usr/local/lib/python3.7/dist-packages (from tensorflow->poliduckie-segmentation) (2.9.1)\n",
            "Requirement already satisfied: opt-einsum>=2.3.2 in /usr/local/lib/python3.7/dist-packages (from tensorflow->poliduckie-segmentation) (3.3.0)\n",
            "Requirement already satisfied: tensorflow-io-gcs-filesystem>=0.23.1 in /usr/local/lib/python3.7/dist-packages (from tensorflow->poliduckie-segmentation) (0.27.0)\n",
            "Requirement already satisfied: typing-extensions>=3.6.6 in /usr/local/lib/python3.7/dist-packages (from tensorflow->poliduckie-segmentation) (4.1.1)\n",
            "Requirement already satisfied: gast<=0.4.0,>=0.2.1 in /usr/local/lib/python3.7/dist-packages (from tensorflow->poliduckie-segmentation) (0.4.0)\n",
            "Requirement already satisfied: wheel<1.0,>=0.23.0 in /usr/local/lib/python3.7/dist-packages (from astunparse>=1.6.0->tensorflow->poliduckie-segmentation) (0.38.1)\n",
            "Requirement already satisfied: cached-property in /usr/local/lib/python3.7/dist-packages (from h5py>=2.9.0->tensorflow->poliduckie-segmentation) (1.5.2)\n",
            "Requirement already satisfied: google-auth<3,>=1.6.3 in /usr/local/lib/python3.7/dist-packages (from tensorboard<2.10,>=2.9->tensorflow->poliduckie-segmentation) (1.35.0)\n",
            "Requirement already satisfied: tensorboard-data-server<0.7.0,>=0.6.0 in /usr/local/lib/python3.7/dist-packages (from tensorboard<2.10,>=2.9->tensorflow->poliduckie-segmentation) (0.6.1)\n",
            "Requirement already satisfied: werkzeug>=1.0.1 in /usr/local/lib/python3.7/dist-packages (from tensorboard<2.10,>=2.9->tensorflow->poliduckie-segmentation) (1.0.1)\n",
            "Requirement already satisfied: google-auth-oauthlib<0.5,>=0.4.1 in /usr/local/lib/python3.7/dist-packages (from tensorboard<2.10,>=2.9->tensorflow->poliduckie-segmentation) (0.4.6)\n",
            "Requirement already satisfied: markdown>=2.6.8 in /usr/local/lib/python3.7/dist-packages (from tensorboard<2.10,>=2.9->tensorflow->poliduckie-segmentation) (3.4.1)\n",
            "Requirement already satisfied: requests<3,>=2.21.0 in /usr/local/lib/python3.7/dist-packages (from tensorboard<2.10,>=2.9->tensorflow->poliduckie-segmentation) (2.23.0)\n",
            "Requirement already satisfied: tensorboard-plugin-wit>=1.6.0 in /usr/local/lib/python3.7/dist-packages (from tensorboard<2.10,>=2.9->tensorflow->poliduckie-segmentation) (1.8.1)\n",
            "Requirement already satisfied: rsa<5,>=3.1.4 in /usr/local/lib/python3.7/dist-packages (from google-auth<3,>=1.6.3->tensorboard<2.10,>=2.9->tensorflow->poliduckie-segmentation) (4.9)\n",
            "Requirement already satisfied: cachetools<5.0,>=2.0.0 in /usr/local/lib/python3.7/dist-packages (from google-auth<3,>=1.6.3->tensorboard<2.10,>=2.9->tensorflow->poliduckie-segmentation) (4.2.4)\n",
            "Requirement already satisfied: pyasn1-modules>=0.2.1 in /usr/local/lib/python3.7/dist-packages (from google-auth<3,>=1.6.3->tensorboard<2.10,>=2.9->tensorflow->poliduckie-segmentation) (0.2.8)\n",
            "Requirement already satisfied: requests-oauthlib>=0.7.0 in /usr/local/lib/python3.7/dist-packages (from google-auth-oauthlib<0.5,>=0.4.1->tensorboard<2.10,>=2.9->tensorflow->poliduckie-segmentation) (1.3.1)\n",
            "Requirement already satisfied: importlib-metadata>=4.4 in /usr/local/lib/python3.7/dist-packages (from markdown>=2.6.8->tensorboard<2.10,>=2.9->tensorflow->poliduckie-segmentation) (4.13.0)\n",
            "Requirement already satisfied: zipp>=0.5 in /usr/local/lib/python3.7/dist-packages (from importlib-metadata>=4.4->markdown>=2.6.8->tensorboard<2.10,>=2.9->tensorflow->poliduckie-segmentation) (3.10.0)\n",
            "Requirement already satisfied: pyasn1<0.5.0,>=0.4.6 in /usr/local/lib/python3.7/dist-packages (from pyasn1-modules>=0.2.1->google-auth<3,>=1.6.3->tensorboard<2.10,>=2.9->tensorflow->poliduckie-segmentation) (0.4.8)\n",
            "Requirement already satisfied: idna<3,>=2.5 in /usr/local/lib/python3.7/dist-packages (from requests<3,>=2.21.0->tensorboard<2.10,>=2.9->tensorflow->poliduckie-segmentation) (2.10)\n",
            "Requirement already satisfied: urllib3!=1.25.0,!=1.25.1,<1.26,>=1.21.1 in /usr/local/lib/python3.7/dist-packages (from requests<3,>=2.21.0->tensorboard<2.10,>=2.9->tensorflow->poliduckie-segmentation) (1.24.3)\n",
            "Requirement already satisfied: chardet<4,>=3.0.2 in /usr/local/lib/python3.7/dist-packages (from requests<3,>=2.21.0->tensorboard<2.10,>=2.9->tensorflow->poliduckie-segmentation) (3.0.4)\n",
            "Requirement already satisfied: certifi>=2017.4.17 in /usr/local/lib/python3.7/dist-packages (from requests<3,>=2.21.0->tensorboard<2.10,>=2.9->tensorflow->poliduckie-segmentation) (2022.9.24)\n",
            "Requirement already satisfied: oauthlib>=3.0.0 in /usr/local/lib/python3.7/dist-packages (from requests-oauthlib>=0.7.0->google-auth-oauthlib<0.5,>=0.4.1->tensorboard<2.10,>=2.9->tensorflow->poliduckie-segmentation) (3.2.2)\n",
            "Requirement already satisfied: pyparsing!=3.0.5,>=2.0.2 in /usr/local/lib/python3.7/dist-packages (from packaging->tensorflow->poliduckie-segmentation) (3.0.9)\n",
            "Installing collected packages: casadi, poliduckie-segmentation\n",
            "Successfully installed casadi-3.5.5 poliduckie-segmentation-0.1.7\n"
          ]
        }
      ],
      "source": [
        "import os \n",
        "branch = \"daffy\" #@param ['master', 'daffy']\n",
        "if branch == \"daffy\":\n",
        "  !pip install duckietown-gym-daffy\n",
        "  !pip install pyglet==1.5.15\n",
        "else:\n",
        "  if not os.path.isdir('gym-duckietown') and not os.path.isdir('../gym-duckietown'):\n",
        "    !git clone --branch {branch} https://github.com/duckietown/gym-duckietown.git\n",
        "    !pip3 install -e gym-duckietown\n",
        "  if \"/gym-duckietown\" not in os.getcwd():\n",
        "    os.chdir('gym-duckietown')\n",
        "!apt install xvfb -y\n",
        "!pip3 install pyvirtualdisplay\n",
        "\n",
        "from pyvirtualdisplay import Display\n",
        "import numpy as np\n",
        "import matplotlib.pyplot as plt\n",
        "from IPython import display as ipythondisplay\n",
        "%matplotlib inline\n",
        "\n",
        "## used to copy the model to the gdrive folder\n",
        "import shutil\n",
        "\n",
        "import cv2\n",
        "import gym\n",
        "import gym_duckietown\n",
        "\n",
        "!pip install poliduckie-segmentation"
      ]
    },
    {
      "cell_type": "code",
      "execution_count": 2,
      "metadata": {
        "id": "sNzfkgAxe5sk"
      },
      "outputs": [],
      "source": [
        "# Gym has a built in logger to log information. The information is split in importance levels, from highest to lowest:\n",
        "# CRITICAL, ERROR, WARNING, INFO, DEBUG, NOTSET\n",
        "# To stop gym from printing many verbose NOTSET, INFO and DEBUG messages we let it print only level WARNING or higher messages\n",
        "import logging\n",
        "gym_duckietown.logger.setLevel(logging.WARNING)"
      ]
    },
    {
      "cell_type": "code",
      "execution_count": 3,
      "metadata": {
        "id": "gN3popcViIKV"
      },
      "outputs": [],
      "source": [
        "map_name = \"Duckietown-ETH_large_loop\""
      ]
    },
    {
      "cell_type": "code",
      "execution_count": 4,
      "metadata": {
        "colab": {
          "base_uri": "https://localhost:8080/"
        },
        "id": "80DTPCMFrQnl",
        "outputId": "9c938e48-48fd-47b2-c734-c00815e523e4"
      },
      "outputs": [
        {
          "output_type": "stream",
          "name": "stderr",
          "text": [
            "/usr/local/lib/python3.7/dist-packages/gym/envs/registration.py:602: UserWarning: \u001b[33mWARN: Using the latest versioned environment `Duckietown-ETH_large_loop-v0` instead of the unversioned environment `Duckietown-ETH_large_loop`.\u001b[0m\n",
            "  f\"Using the latest versioned environment `{new_env_id}` \"\n",
            "INFO:duckietown_world: data: /usr/local/lib/python3.7/dist-packages/duckietown_world/data\n",
            "/usr/local/lib/python3.7/dist-packages/gym/utils/seeding.py:64: DeprecationWarning: \u001b[33mWARN: Function `rng.randint(low, [high, size, dtype])` is marked as deprecated and will be removed in the future. Please use `rng.integers(low, [high, size, dtype])` instead.\u001b[0m\n",
            "  \"Function `rng.randint(low, [high, size, dtype])` is marked as deprecated \"\n",
            "/usr/local/lib/python3.7/dist-packages/gym/spaces/box.py:128: UserWarning: \u001b[33mWARN: Box bound precision lowered by casting to float32\u001b[0m\n",
            "  logger.warn(f\"Box bound precision lowered by casting to {self.dtype}\")\n",
            "/usr/local/lib/python3.7/dist-packages/gym/core.py:318: DeprecationWarning: \u001b[33mWARN: Initializing wrapper in old step API which returns one bool instead of two. It is recommended to set `new_step_api=True` to use new step API. This will be the default behaviour in future.\u001b[0m\n",
            "  \"Initializing wrapper in old step API which returns one bool instead of two. It is recommended to set `new_step_api=True` to use new step API. This will be the default behaviour in future.\"\n",
            "/usr/local/lib/python3.7/dist-packages/gym/wrappers/step_api_compatibility.py:40: DeprecationWarning: \u001b[33mWARN: Initializing environment in old step API which returns one bool instead of two. It is recommended to set `new_step_api=True` to use new step API. This will be the default behaviour in future.\u001b[0m\n",
            "  \"Initializing environment in old step API which returns one bool instead of two. It is recommended to set `new_step_api=True` to use new step API. This will be the default behaviour in future.\"\n"
          ]
        }
      ],
      "source": [
        "display = Display(visible=0, size=(1400, 900))\n",
        "display.start()\n",
        "env = gym.make(map_name)"
      ]
    },
    {
      "cell_type": "code",
      "execution_count": 5,
      "metadata": {
        "id": "9-_7t6xXilST",
        "outputId": "f9b17f3c-55da-4384-e870-416efdf2227f",
        "colab": {
          "base_uri": "https://localhost:8080/",
          "height": 411
        }
      },
      "outputs": [
        {
          "output_type": "stream",
          "name": "stderr",
          "text": [
            "/usr/local/lib/python3.7/dist-packages/gym/utils/passive_env_checker.py:175: UserWarning: \u001b[33mWARN: Future gym versions will require that `Env.reset` can be passed a `seed` instead of using `Env.seed` for resetting the environment random number generator.\u001b[0m\n",
            "  \"Future gym versions will require that `Env.reset` can be passed a `seed` instead of using `Env.seed` for resetting the environment random number generator.\"\n",
            "/usr/local/lib/python3.7/dist-packages/gym/utils/passive_env_checker.py:191: UserWarning: \u001b[33mWARN: Future gym versions will require that `Env.reset` can be passed `return_info` to return information from the environment resetting.\u001b[0m\n",
            "  \"Future gym versions will require that `Env.reset` can be passed `return_info` to return information from the environment resetting.\"\n",
            "/usr/local/lib/python3.7/dist-packages/gym/utils/passive_env_checker.py:196: UserWarning: \u001b[33mWARN: Future gym versions will require that `Env.reset` can be passed `options` to allow the environment initialisation to be passed additional information.\u001b[0m\n",
            "  \"Future gym versions will require that `Env.reset` can be passed `options` to allow the environment initialisation to be passed additional information.\"\n"
          ]
        },
        {
          "output_type": "stream",
          "name": "stdout",
          "text": [
            "(480, 640, 3)\n"
          ]
        },
        {
          "output_type": "display_data",
          "data": {
            "text/plain": [
              "<Figure size 432x288 with 1 Axes>"
            ],
            "image/png": "[encoded data removed]"
          },
          "metadata": {
            "needs_background": "light"
          }
        }
      ],
      "source": [
        "img_example = env.reset()\n",
        "plt.imshow(img_example)\n",
        "print(img_example.shape)"
      ]
    },
    {
      "cell_type": "code",
      "execution_count": 6,
      "metadata": {
        "id": "goF5jzrwieTU",
        "outputId": "a560f7fb-75a4-42a2-aa69-723df3b395b1",
        "colab": {
          "base_uri": "https://localhost:8080/",
          "height": 1000
        }
      },
      "outputs": [
        {
          "output_type": "stream",
          "name": "stdout",
          "text": [
            "Model: \"model\"\n",
            "__________________________________________________________________________________________________\n",
            " Layer (type)                   Output Shape         Param #     Connected to                     \n",
            "==================================================================================================\n",
            " input_1 (InputLayer)           [(None, 240, 320, 3  0           []                               \n",
            "                                )]                                                                \n",
            "                                                                                                  \n",
            " lambda (Lambda)                (None, 240, 320, 3)  0           ['input_1[0][0]']                \n",
            "                                                                                                  \n",
            " conv2d (Conv2D)                (None, 240, 320, 16  448         ['lambda[0][0]']                 \n",
            "                                )                                                                 \n",
            "                                                                                                  \n",
            " dropout (Dropout)              (None, 240, 320, 16  0           ['conv2d[0][0]']                 \n",
            "                                )                                                                 \n",
            "                                                                                                  \n",
            " conv2d_1 (Conv2D)              (None, 240, 320, 16  2320        ['dropout[0][0]']                \n",
            "                                )                                                                 \n",
            "                                                                                                  \n",
            " max_pooling2d (MaxPooling2D)   (None, 120, 160, 16  0           ['conv2d_1[0][0]']               \n",
            "                                )                                                                 \n",
            "                                                                                                  \n",
            " conv2d_2 (Conv2D)              (None, 120, 160, 32  4640        ['max_pooling2d[0][0]']          \n",
            "                                )                                                                 \n",
            "                                                                                                  \n",
            " dropout_1 (Dropout)            (None, 120, 160, 32  0           ['conv2d_2[0][0]']               \n",
            "                                )                                                                 \n",
            "                                                                                                  \n",
            " conv2d_3 (Conv2D)              (None, 120, 160, 32  9248        ['dropout_1[0][0]']              \n",
            "                                )                                                                 \n",
            "                                                                                                  \n",
            " max_pooling2d_1 (MaxPooling2D)  (None, 60, 80, 32)  0           ['conv2d_3[0][0]']               \n",
            "                                                                                                  \n",
            " conv2d_4 (Conv2D)              (None, 60, 80, 64)   18496       ['max_pooling2d_1[0][0]']        \n",
            "                                                                                                  \n",
            " dropout_2 (Dropout)            (None, 60, 80, 64)   0           ['conv2d_4[0][0]']               \n",
            "                                                                                                  \n",
            " conv2d_5 (Conv2D)              (None, 60, 80, 64)   36928       ['dropout_2[0][0]']              \n",
            "                                                                                                  \n",
            " max_pooling2d_2 (MaxPooling2D)  (None, 30, 40, 64)  0           ['conv2d_5[0][0]']               \n",
            "                                                                                                  \n",
            " conv2d_6 (Conv2D)              (None, 30, 40, 128)  73856       ['max_pooling2d_2[0][0]']        \n",
            "                                                                                                  \n",
            " dropout_3 (Dropout)            (None, 30, 40, 128)  0           ['conv2d_6[0][0]']               \n",
            "                                                                                                  \n",
            " conv2d_7 (Conv2D)              (None, 30, 40, 128)  147584      ['dropout_3[0][0]']              \n",
            "                                                                                                  \n",
            " max_pooling2d_3 (MaxPooling2D)  (None, 15, 20, 128)  0          ['conv2d_7[0][0]']               \n",
            "                                                                                                  \n",
            " conv2d_8 (Conv2D)              (None, 15, 20, 256)  295168      ['max_pooling2d_3[0][0]']        \n",
            "                                                                                                  \n",
            " dropout_4 (Dropout)            (None, 15, 20, 256)  0           ['conv2d_8[0][0]']               \n",
            "                                                                                                  \n",
            " conv2d_9 (Conv2D)              (None, 15, 20, 256)  590080      ['dropout_4[0][0]']              \n",
            "                                                                                                  \n",
            " conv2d_transpose (Conv2DTransp  (None, 30, 40, 128)  131200     ['conv2d_9[0][0]']               \n",
            " ose)                                                                                             \n",
            "                                                                                                  \n",
            " concatenate (Concatenate)      (None, 30, 40, 256)  0           ['conv2d_transpose[0][0]',       \n",
            "                                                                  'conv2d_7[0][0]']               \n",
            "                                                                                                  \n",
            " conv2d_10 (Conv2D)             (None, 30, 40, 128)  295040      ['concatenate[0][0]']            \n",
            "                                                                                                  \n",
            " dropout_5 (Dropout)            (None, 30, 40, 128)  0           ['conv2d_10[0][0]']              \n",
            "                                                                                                  \n",
            " conv2d_11 (Conv2D)             (None, 30, 40, 128)  147584      ['dropout_5[0][0]']              \n",
            "                                                                                                  \n",
            " conv2d_transpose_1 (Conv2DTran  (None, 60, 80, 64)  32832       ['conv2d_11[0][0]']              \n",
            " spose)                                                                                           \n",
            "                                                                                                  \n",
            " concatenate_1 (Concatenate)    (None, 60, 80, 128)  0           ['conv2d_transpose_1[0][0]',     \n",
            "                                                                  'conv2d_5[0][0]']               \n",
            "                                                                                                  \n",
            " conv2d_12 (Conv2D)             (None, 60, 80, 64)   73792       ['concatenate_1[0][0]']          \n",
            "                                                                                                  \n",
            " dropout_6 (Dropout)            (None, 60, 80, 64)   0           ['conv2d_12[0][0]']              \n",
            "                                                                                                  \n",
            " conv2d_13 (Conv2D)             (None, 60, 80, 64)   36928       ['dropout_6[0][0]']              \n",
            "                                                                                                  \n",
            " conv2d_transpose_2 (Conv2DTran  (None, 120, 160, 32  8224       ['conv2d_13[0][0]']              \n",
            " spose)                         )                                                                 \n",
            "                                                                                                  \n",
            " concatenate_2 (Concatenate)    (None, 120, 160, 64  0           ['conv2d_transpose_2[0][0]',     \n",
            "                                )                                 'conv2d_3[0][0]']               \n",
            "                                                                                                  \n",
            " conv2d_14 (Conv2D)             (None, 120, 160, 32  18464       ['concatenate_2[0][0]']          \n",
            "                                )                                                                 \n",
            "                                                                                                  \n",
            " dropout_7 (Dropout)            (None, 120, 160, 32  0           ['conv2d_14[0][0]']              \n",
            "                                )                                                                 \n",
            "                                                                                                  \n",
            " conv2d_15 (Conv2D)             (None, 120, 160, 32  9248        ['dropout_7[0][0]']              \n",
            "                                )                                                                 \n",
            "                                                                                                  \n",
            " conv2d_transpose_3 (Conv2DTran  (None, 240, 320, 16  2064       ['conv2d_15[0][0]']              \n",
            " spose)                         )                                                                 \n",
            "                                                                                                  \n",
            " concatenate_3 (Concatenate)    (None, 240, 320, 32  0           ['conv2d_transpose_3[0][0]',     \n",
            "                                )                                 'conv2d_1[0][0]']               \n",
            "                                                                                                  \n",
            " conv2d_16 (Conv2D)             (None, 240, 320, 16  4624        ['concatenate_3[0][0]']          \n",
            "                                )                                                                 \n",
            "                                                                                                  \n",
            " dropout_8 (Dropout)            (None, 240, 320, 16  0           ['conv2d_16[0][0]']              \n",
            "                                )                                                                 \n",
            "                                                                                                  \n",
            " conv2d_17 (Conv2D)             (None, 240, 320, 16  2320        ['dropout_8[0][0]']              \n",
            "                                )                                                                 \n",
            "                                                                                                  \n",
            " conv2d_18 (Conv2D)             (None, 240, 320, 1)  17          ['conv2d_17[0][0]']              \n",
            "                                                                                                  \n",
            "==================================================================================================\n",
            "Total params: 1,941,105\n",
            "Trainable params: 1,941,105\n",
            "Non-trainable params: 0\n",
            "__________________________________________________________________________________________________\n"
          ]
        },
        {
          "output_type": "error",
          "ename": "NameError",
          "evalue": "ignored",
          "traceback": [
            "\u001b[0;31m---------------------------------------------------------------------------\u001b[0m",
            "\u001b[0;31mNameError\u001b[0m                                 Traceback (most recent call last)",
            "\u001b[0;32m<ipython-input-6-92c10ed864e2>\u001b[0m in \u001b[0;36m<module>\u001b[0;34m\u001b[0m\n\u001b[1;32m      5\u001b[0m \u001b[0msegmentation\u001b[0m \u001b[0;34m=\u001b[0m \u001b[0mSegmentation\u001b[0m\u001b[0;34m(\u001b[0m\u001b[0;34m)\u001b[0m\u001b[0;34m\u001b[0m\u001b[0;34m\u001b[0m\u001b[0m\n\u001b[1;32m      6\u001b[0m \u001b[0;34m\u001b[0m\u001b[0m\n\u001b[0;32m----> 7\u001b[0;31m \u001b[0mbirdeye\u001b[0m \u001b[0;34m=\u001b[0m \u001b[0mBirdEyeView\u001b[0m\u001b[0;34m(\u001b[0m\u001b[0;34m)\u001b[0m\u001b[0;34m\u001b[0m\u001b[0;34m\u001b[0m\u001b[0m\n\u001b[0m\u001b[1;32m      8\u001b[0m \u001b[0;34m\u001b[0m\u001b[0m\n\u001b[1;32m      9\u001b[0m \u001b[0mimg_axample\u001b[0m \u001b[0;34m=\u001b[0m \u001b[0mbirdeye\u001b[0m\u001b[0;34m.\u001b[0m\u001b[0mcomputeBirdEye\u001b[0m\u001b[0;34m(\u001b[0m\u001b[0mimg_example\u001b[0m\u001b[0;34m)\u001b[0m\u001b[0;34m\u001b[0m\u001b[0;34m\u001b[0m\u001b[0m\n",
            "\u001b[0;32m/usr/local/lib/python3.7/dist-packages/poliduckie_segmentation/pre_processing.py\u001b[0m in \u001b[0;36m__init__\u001b[0;34m(self)\u001b[0m\n\u001b[1;32m     15\u001b[0m \u001b[0;34m\u001b[0m\u001b[0m\n\u001b[1;32m     16\u001b[0m     \u001b[0;32mdef\u001b[0m \u001b[0m__init__\u001b[0m\u001b[0;34m(\u001b[0m\u001b[0mself\u001b[0m\u001b[0;34m)\u001b[0m\u001b[0;34m:\u001b[0m\u001b[0;34m\u001b[0m\u001b[0;34m\u001b[0m\u001b[0m\n\u001b[0;32m---> 17\u001b[0;31m         \u001b[0mpkg_path\u001b[0m \u001b[0;34m=\u001b[0m \u001b[0mos\u001b[0m\u001b[0;34m.\u001b[0m\u001b[0mpath\u001b[0m\u001b[0;34m.\u001b[0m\u001b[0mabspath\u001b[0m\u001b[0;34m(\u001b[0m\u001b[0m__file__\u001b[0m\u001b[0;34m)\u001b[0m\u001b[0;34m\u001b[0m\u001b[0;34m\u001b[0m\u001b[0m\n\u001b[0m\u001b[1;32m     18\u001b[0m         \u001b[0mmodel_path\u001b[0m \u001b[0;34m=\u001b[0m \u001b[0mos\u001b[0m\u001b[0;34m.\u001b[0m\u001b[0mpath\u001b[0m\u001b[0;34m.\u001b[0m\u001b[0mjoin\u001b[0m\u001b[0;34m(\u001b[0m\u001b[0mos\u001b[0m\u001b[0;34m.\u001b[0m\u001b[0mpath\u001b[0m\u001b[0;34m.\u001b[0m\u001b[0mdirname\u001b[0m\u001b[0;34m(\u001b[0m\u001b[0mpkg_path\u001b[0m\u001b[0;34m)\u001b[0m\u001b[0;34m,\u001b[0m \u001b[0;34m'BirdEyeCalibration'\u001b[0m\u001b[0;34m,\u001b[0m \u001b[0;34m'BirdEye.pkl'\u001b[0m\u001b[0;34m)\u001b[0m\u001b[0;34m\u001b[0m\u001b[0;34m\u001b[0m\u001b[0m\n\u001b[1;32m     19\u001b[0m         \u001b[0mfile\u001b[0m \u001b[0;34m=\u001b[0m \u001b[0mopen\u001b[0m\u001b[0;34m(\u001b[0m\u001b[0mmodel_path\u001b[0m\u001b[0;34m,\u001b[0m \u001b[0;34m'rb'\u001b[0m\u001b[0;34m)\u001b[0m\u001b[0;34m\u001b[0m\u001b[0;34m\u001b[0m\u001b[0m\n",
            "\u001b[0;31mNameError\u001b[0m: name 'os' is not defined"
          ]
        }
      ],
      "source": [
        "from poliduckie_segmentation import Segmentation\n",
        "from poliduckie_segmentation import BirdEyeView\n",
        "from skimage.transform import resize\n",
        "\n",
        "segmentation = Segmentation()\n",
        "\n",
        "birdeye = BirdEyeView()\n",
        "\n",
        "img_axample = birdeye.computeBirdEye(img_example)\n",
        "img_example = np.delete(img_example, [False, False, False, True], axis=-1)\n",
        "img_example = resize(img_example, (img_example.shape[0],240, 320, 3), mode='constant', preserve_range='true')\n",
        "        \n",
        "prediction = segmentation.predict(img_example)"
      ]
    },
    {
      "cell_type": "code",
      "execution_count": null,
      "metadata": {
        "id": "w84uIh0hyfnB"
      },
      "outputs": [],
      "source": [
        "prediction_reshaped = np.reshape(prediction, (240, 320))\n",
        "plt.imshow(prediction_reshaped)"
      ]
    },
    {
      "cell_type": "code",
      "execution_count": null,
      "metadata": {
        "id": "M1D6zEAthaa9"
      },
      "outputs": [],
      "source": [
        "prediction_rounded = np.around(prediction_reshaped)\n",
        "\n",
        "x = np.nan\n",
        "while x is np.nan:\n",
        "  y = 150\n",
        "  x = np.argwhere(prediction_rounded[y]).mean()\n",
        "  y -= 1\n",
        "\n",
        "plt.scatter(x,y)\n",
        "plt.imshow(prediction_rounded)"
      ]
    },
    {
      "cell_type": "code",
      "execution_count": null,
      "metadata": {
        "id": "bDgVRrqwh-tV"
      },
      "outputs": [],
      "source": [
        "lane_width = 0.445 # m\n",
        "x_factor = lane_width/prediction_rounded.shape[1] # m/px\n",
        "x_factor"
      ]
    },
    {
      "cell_type": "code",
      "execution_count": null,
      "metadata": {
        "id": "azWKkLtzjGf-"
      },
      "outputs": [],
      "source": [
        "x_cm = x*x_factor\n",
        "y_cm = 0.1 # m, needs to be tuned"
      ]
    },
    {
      "cell_type": "code",
      "execution_count": null,
      "metadata": {
        "id": "aVGL_mYdjvkH"
      },
      "outputs": [],
      "source": [
        "def get_reference_from_segmentation(img, x_factor=0.00139, y_cm=0.1, N=10):\n",
        "  y = 150\n",
        "  x = np.argwhere(prediction_rounded[y]).mean()\n",
        "  x_cm = x*x_factor\n",
        "  return np.array([[x_cm, y_cm]]*N).T"
      ]
    },
    {
      "cell_type": "code",
      "execution_count": null,
      "metadata": {
        "id": "F-PNd9GBjVbb"
      },
      "outputs": [],
      "source": [
        "from poliduckie_segmentation.control import MPC\n",
        "M = MPC()"
      ]
    },
    {
      "cell_type": "code",
      "execution_count": null,
      "metadata": {
        "id": "Z7j2SqlxjbBz"
      },
      "outputs": [],
      "source": [
        "r = get_reference_from_segmentation(prediction_rounded, N=11)\n",
        "\n",
        "f\"Reference is {r[0, 0], r[1,0]}\""
      ]
    },
    {
      "cell_type": "code",
      "execution_count": null,
      "metadata": {
        "id": "VW94U043lAzU"
      },
      "outputs": [],
      "source": [
        "from poliduckie_segmentation.model import Model\n",
        "\n",
        "# State X = [x, y, angle, longitudinal speed, angular speed]\n",
        "X = [0,0,0,0,0]\n",
        "\n",
        "F = Model()\n",
        "input_list = []\n",
        "positions = []\n",
        "\n",
        "counter = 0\n",
        "\n",
        "while np.square(X[0]-r[0,0]) + np.square(X[1]-r[1,0]) > 0.001 and counter < 20:\n",
        "  action = M.mpc(X, r)\n",
        "  if counter > 0:\n",
        "    state = X.toarray().T[0]\n",
        "  else:\n",
        "    state = X\n",
        "  X = F.step(*state, action)\n",
        "  input_list.append(action)\n",
        "  positions.append(X[:2])\n",
        "\n",
        "  counter += 1\n",
        "\n",
        "input_list = np.array(input_list)\n",
        "positions = np.array(positions)"
      ]
    },
    {
      "cell_type": "code",
      "execution_count": null,
      "metadata": {
        "id": "ppDedmog4N1C"
      },
      "outputs": [],
      "source": [
        "input_list"
      ]
    },
    {
      "cell_type": "code",
      "execution_count": null,
      "metadata": {
        "id": "TEnCc3Wh4D4E"
      },
      "outputs": [],
      "source": [
        "input_list_clipped = np.clip(input_list, 0, 1)"
      ]
    },
    {
      "cell_type": "code",
      "execution_count": null,
      "metadata": {
        "id": "P-c9J0B1udVG"
      },
      "outputs": [],
      "source": [
        "plt.plot(input_list)"
      ]
    },
    {
      "cell_type": "code",
      "execution_count": null,
      "metadata": {
        "id": "45iHvOwFzvuf"
      },
      "outputs": [],
      "source": [
        "positions.reshape(-1,2)"
      ]
    },
    {
      "cell_type": "code",
      "execution_count": null,
      "metadata": {
        "id": "5-XVBRmCu0Jv"
      },
      "outputs": [],
      "source": [
        "plt.plot(*positions.reshape(-1, 2).T)"
      ]
    },
    {
      "cell_type": "code",
      "execution_count": null,
      "metadata": {
        "id": "E5_pfBLj0aiA"
      },
      "outputs": [],
      "source": [
        "img_frames = []\n",
        "for action in input_list_clipped:\n",
        "  env.step(action)\n",
        "  img_frames.append(env.render(mode='rgb_array'))"
      ]
    },
    {
      "cell_type": "code",
      "execution_count": null,
      "metadata": {
        "id": "MawGuPyR1wlg"
      },
      "outputs": [],
      "source": [
        "plt.imshow(img_frames[-1])"
      ]
    },
    {
      "cell_type": "code",
      "execution_count": null,
      "metadata": {
        "id": "uTDTPk4P3Tyt"
      },
      "outputs": [],
      "source": [
        "import imageio\n",
        "from IPython.display import Image\n",
        "\n",
        "imageio.mimsave('mpc.gif', img_frames)\n",
        "Image(open('mpc.gif','rb').read())"
      ]
    },
    {
      "cell_type": "markdown",
      "metadata": {
        "id": "ZSArqXm14Yrd"
      },
      "source": [
        "## Now multiple inputs"
      ]
    },
    {
      "cell_type": "code",
      "execution_count": null,
      "metadata": {
        "id": "mGCXR1kb-07s"
      },
      "outputs": [],
      "source": [
        "# https://stackoverflow.com/questions/47910681/tensorflow-setting-allow-growth-to-true-does-still-allocate-memory-of-all-my-gp\n",
        "os.environ['TF_FORCE_GPU_ALLOW_GROWTH'] = 'true'"
      ]
    },
    {
      "cell_type": "code",
      "execution_count": null,
      "metadata": {
        "id": "sR_0zPrm4alH"
      },
      "outputs": [],
      "source": [
        "img = env.reset()\n",
        "img_frames = []\n",
        "action_list = []\n",
        "\n",
        "X = [0,0,0,0,0]\n",
        "for iteration in range(50):\n",
        "  img = birdeye.computeBirdEye(img)\n",
        "  img = np.delete(img, [False, False, False, True], axis=-1)\n",
        "  img = resize(img, (240, 320, 3), mode='constant', preserve_range='true')\n",
        "  prediction = segmentation.predict(img)\n",
        "  prediction_reshaped = np.reshape(prediction, (240, 320))\n",
        "  prediction_rounded = np.around(prediction_reshaped)\n",
        "  r = get_reference_from_segmentation(prediction_rounded, N=11)\n",
        "  if iteration > 0:\n",
        "    state = X.toarray().T[0]\n",
        "  else:\n",
        "    state = X\n",
        "  action = M.mpc(state, r)\n",
        "  X = F.step(*state, action)\n",
        "  env.step(action)\n",
        "  action_list.append(action)\n",
        "  img = cv2.resize(img,(320,240),interpolation=cv2.INTER_CUBIC)\n",
        "  img = cv2.circle(img, (int(r[0,0]/0.001390625), 120), 10, color=(0, 0, 255), thickness=-1)\n",
        "  img_frames.append(img)\n",
        "  img = env.render(mode='rgb_array')\n",
        "  "
      ]
    },
    {
      "cell_type": "code",
      "execution_count": null,
      "metadata": {
        "id": "vpp4_muP5XHq"
      },
      "outputs": [],
      "source": [
        "imageio.mimsave('run_mpc.gif', img_frames)\n",
        "Image(open('run_mpc.gif','rb').read())"
      ]
    },
    {
      "cell_type": "code",
      "execution_count": null,
      "metadata": {
        "id": "cLDWgs51S5Xq"
      },
      "outputs": [],
      "source": [
        "action_list"
      ]
    }
  ],
  "metadata": {
    "accelerator": "GPU",
    "colab": {
      "collapsed_sections": [],
      "name": "PPO_duckie_baseline3_drive_clean.ipynb",
      "provenance": [],
      "include_colab_link": true
    },
    "kernelspec": {
      "display_name": "Python 3",
      "name": "python3"
    },
    "language_info": {
      "name": "python"
    }
  },
  "nbformat": 4,
  "nbformat_minor": 0
}